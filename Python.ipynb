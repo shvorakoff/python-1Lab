{
 "cells": [
  {
   "cell_type": "markdown",
   "id": "6459c99bdfd55558",
   "metadata": {},
   "source": [
    "# Лабораторна робота 1"
   ]
  },
  {
   "cell_type": "markdown",
   "id": "aae0ebd2341b5255",
   "metadata": {},
   "source": [
    "**Мета:** отримати базові навики використання Python для дослідження та візуалізації даних."
   ]
  },
  {
   "cell_type": "markdown",
   "id": "5d86db42b5ca3830",
   "metadata": {},
   "source": [
    "## Номер варіанту"
   ]
  },
  {
   "cell_type": "code",
   "execution_count": 7,
   "id": "a9794b2697f71601",
   "metadata": {
    "ExecuteTime": {
     "end_time": "2023-11-09T10:51:46.963026Z",
     "start_time": "2023-11-09T10:51:46.942530Z"
    }
   },
   "outputs": [
    {
     "name": "stdout",
     "output_type": "stream",
     "text": [
      "3\n"
     ]
    }
   ],
   "source": [
    "N = ord(\"D\") % 3 + 1\n",
    "print(N)"
   ]
  },
  {
   "cell_type": "markdown",
   "id": "3a8aa05c0a67d957",
   "metadata": {},
   "source": [
    "## Завдання 1 \n",
    "### Функція, яка приймає назву файлу та назву стовпця як параметр і повертає масив numpy зі значеннями стовпця."
   ]
  },
  {
   "cell_type": "code",
   "execution_count": 8,
   "id": "35bed80fe52c17cd",
   "metadata": {
    "ExecuteTime": {
     "end_time": "2023-11-09T10:51:50.167913500Z",
     "start_time": "2023-11-09T10:51:50.019338500Z"
    }
   },
   "outputs": [],
   "source": [
    "import csv\n",
    "import numpy as np\n",
    "\n",
    "\n",
    "def get_column_values(filename, column_name):\n",
    "    with open(filename, 'r') as f:\n",
    "        reader = csv.DictReader(f)\n",
    "        column_values = np.array([float(row[column_name]) for row in reader])\n",
    "    return column_values"
   ]
  },
  {
   "cell_type": "markdown",
   "id": "ad6a2995c606588",
   "metadata": {},
   "source": [
    "## Завдання 2\n",
    "### Масив NumPy зі значень стовпця «APC»"
   ]
  },
  {
   "cell_type": "code",
   "execution_count": 9,
   "id": "c66732e6efec2c3",
   "metadata": {
    "ExecuteTime": {
     "end_time": "2023-11-09T10:51:51.682732Z",
     "start_time": "2023-11-09T10:51:51.645979500Z"
    }
   },
   "outputs": [
    {
     "name": "stdout",
     "output_type": "stream",
     "text": [
      "[ 516.  706.  706.  816.  846.  862.  900.  939.  945.  985.  999. 1036.\n",
      " 1070. 1105. 1165. 1205. 1226. 1249. 1279. 1375. 1435. 1448. 1470. 1487.\n",
      " 1535. 1556. 1578. 1597. 1625. 1640. 1664. 1694. 1710. 1723. 1735. 1751.\n",
      " 1776. 1830. 1844. 1858. 1861. 1891. 1891. 1895. 1911. 1923. 1946. 1964.\n",
      " 1968. 1976. 1982. 2002. 2041. 2063. 2087. 2118. 2162. 2205. 2238. 2258.\n",
      " 2308. 2342. 2389. 2418. 2445. 2471. 2519. 2567. 2610. 2651. 2686. 2713.\n",
      " 2741. 2764. 2808. 2856. 2873. 2900. 2934. 2958. 2974. 3009. 3043. 3063.\n",
      " 3090. 3116. 3141. 3166. 3194. 3213. 3235. 3246. 3258. 3270. 3282. 3302.\n",
      " 3343. 3354. 3366. 3379. 3392. 3400. 3416. 3429. 3438. 3450. 3466. 3484.\n",
      " 3492. 3503. 3528. 3545. 3563. 3573. 3577. 3588. 3606. 3614. 3632. 3637.\n",
      " 3645. 3659. 3687. 3704. 3720. 3726. 3736. 3737. 3744. 3744. 3772. 3789.\n",
      " 3797. 3811. 3815. 3823. 3828. 3829. 3832. 3832. 3866. 3874. 3879. 3886.\n",
      " 3892. 3905. 3912. 3920. 3929. 3942. 3950. 3959. 3971. 3979. 3987. 3995.\n",
      " 4004. 4011. 4014. 4022. 4026. 4032. 4051. 4055. 4070. 4076. 4086. 4100.\n",
      " 4108. 4115. 4126. 4141. 4152. 4162. 4179. 4195. 4212. 4224. 4230. 4238.\n",
      " 4243. 4245. 4251. 4254. 4257. 4269. 4294. 4312. 4345. 4366. 4403. 4430.\n",
      " 4459. 4484. 4520. 4557. 4575. 4584. 4617. 4640. 4662. 4665. 4682. 4690.\n",
      " 4701. 4718. 4720. 4724. 4748. 4776. 4796. 4807. 4832. 4857. 4881. 4889.\n",
      " 4909. 4932. 4949. 4975. 4991. 5018. 5038. 5064. 5093. 5111. 5133. 5149.\n",
      " 5162. 5181. 5167. 5172. 5179. 5193. 5205. 5219. 5235. 5255. 5258. 5266.\n",
      " 5284. 5295. 5321. 5351. 5364. 5378. 5401. 5453. 5485. 5501. 5525. 5552.\n",
      " 5580. 5601. 5611. 5630. 5654. 5666. 5682. 5696. 5730. 5742. 5748. 5773.\n",
      " 5797. 5804. 5808. 5815. 5817. 5822. 5827. 5832. 5837. 5844. 5848. 5856.\n",
      " 5861. 5866. 5872. 5877. 5883. 5886. 5892. 5900. 5905. 5909. 5911. 5912.\n",
      " 5917. 5920. 5928. 5930. 5937. 5946. 5952. 5958. 5963. 5969. 5974. 5979.\n",
      " 5981. 5986. 5994. 6010. 6017. 6024. 6037. 6047. 6059. 6075. 6084. 6093.\n",
      " 6100. 6106. 6108. 6124. 6125. 6130. 6147. 6154. 6159. 6159. 6167. 6173.\n",
      " 6183. 6204. 6215. 6215. 6235. 6241. 6256. 6268. 6276. 6284. 6307. 6334.\n",
      " 6340. 6344. 6366. 6369. 6378. 6382. 6382. 6388. 6394. 6405. 6415. 6443.\n",
      " 6458. 6468. 6471. 6474. 6488. 6492. 6500. 6507. 6517. 6520. 6533. 6545.\n",
      " 6553. 6562. 6569. 6593. 6600. 6609. 6615. 6621. 6630. 6638. 6658. 6673.\n",
      " 6683. 6692. 6703. 6714. 6723. 6736. 6742. 6762. 6769. 6774. 6789. 6799.\n",
      " 6810. 6823. 6830. 6853. 6869. 6879. 6887. 6898. 6921. 6932. 6947. 6953.\n",
      " 6966. 6966. 6974. 6977. 6981. 6986. 6993. 6999. 7005. 7013. 7016. 7020.\n",
      " 7024. 7028. 7038. 7043. 7053. 7069. 7073. 7083. 7087. 7098. 7110. 7120.\n",
      " 7126. 7130. 7131. 7139. 7151. 7162. 7178. 7181. 7184. 7189. 7192. 7193.\n",
      " 7199. 7216. 7224. 7238. 7248. 7253. 7257. 7275. 7287. 7295. 7307. 7325.\n",
      " 7336. 7348. 7365. 7373. 7377. 7382. 7398. 7407. 7419. 7424. 7432. 7435.\n",
      " 7442. 7456. 7467. 7469. 7472. 7478. 7490. 7502. 7512. 7523. 7543. 7560.\n",
      " 7576. 7600. 7607. 7631. 7636. 7642. 7653. 7667. 7683. 7706. 7729. 7735.\n",
      " 7750. 7771. 7783. 7798. 7804. 7806. 7820. 7834. 7847. 7857. 7863. 7868.\n",
      " 7888. 7899. 7908. 7917. 7932. 7944. 7953. 7964. 7966. 7983. 7990. 7999.\n",
      " 8008. 8019. 8026. 8034. 8051. 8059. 8065. 8080. 8096. 8105. 8118. 8131.\n",
      " 8136. 8147. 8161. 8167. 8178. 8188. 8205. 8213. 8234. 8249. 8251. 8262.\n",
      " 8270. 8278. 8290. 8303. 8318. 8324. 8335. 8354. 8370. 8380. 8398. 8410.\n",
      " 8424. 8435. 8449. 8476. 8488. 8511. 8521. 8539. 8554. 8562. 8579. 8596.\n",
      " 8604. 8613. 8637. 8649. 8663. 8670. 8682. 8703. 8726. 8739. 8755. 8767.\n",
      " 8778. 8792. 8810. 8814. 8824. 8828. 8834. 8851. 8868. 8883. 8891. 8912.\n",
      " 8914. 8927. 8946. 8950. 8962. 8972. 8984. 8991. 9000. 9008. 9026. 9052.\n",
      " 9082. 9102. 9123. 9126. 9129. 9220. 9264. 9313. 9337. 9362. 9385. 9405.\n",
      " 9420. 9437. 9557. 9612. 9631. 9653. 9669. 9697. 9715. 9726. 9749. 9758.]\n"
     ]
    }
   ],
   "source": [
    "apc_values = get_column_values('russia_losses_equipment.csv', 'APC')\n",
    "print(apc_values)"
   ]
  },
  {
   "cell_type": "markdown",
   "id": "97cf4bed30c4ce08",
   "metadata": {},
   "source": [
    "## Завдання 3\n",
    "### Добові втрати БТР"
   ]
  },
  {
   "cell_type": "code",
   "execution_count": 10,
   "id": "a8b31a63cef0e06b",
   "metadata": {
    "ExecuteTime": {
     "end_time": "2023-11-09T10:51:52.988812400Z",
     "start_time": "2023-11-09T10:51:52.974562700Z"
    }
   },
   "outputs": [
    {
     "name": "stdout",
     "output_type": "stream",
     "text": [
      "[190.   0. 110.  30.  16.  38.  39.   6.  40.  14.  37.  34.  35.  60.\n",
      "  40.  21.  23.  30.  96.  60.  13.  22.  17.  48.  21.  22.  19.  28.\n",
      "  15.  24.  30.  16.  13.  12.  16.  25.  54.  14.  14.   3.  30.   0.\n",
      "   4.  16.  12.  23.  18.   4.   8.   6.  20.  39.  22.  24.  31.  44.\n",
      "  43.  33.  20.  50.  34.  47.  29.  27.  26.  48.  48.  43.  41.  35.\n",
      "  27.  28.  23.  44.  48.  17.  27.  34.  24.  16.  35.  34.  20.  27.\n",
      "  26.  25.  25.  28.  19.  22.  11.  12.  12.  12.  20.  41.  11.  12.\n",
      "  13.  13.   8.  16.  13.   9.  12.  16.  18.   8.  11.  25.  17.  18.\n",
      "  10.   4.  11.  18.   8.  18.   5.   8.  14.  28.  17.  16.   6.  10.\n",
      "   1.   7.   0.  28.  17.   8.  14.   4.   8.   5.   1.   3.   0.  34.\n",
      "   8.   5.   7.   6.  13.   7.   8.   9.  13.   8.   9.  12.   8.   8.\n",
      "   8.   9.   7.   3.   8.   4.   6.  19.   4.  15.   6.  10.  14.   8.\n",
      "   7.  11.  15.  11.  10.  17.  16.  17.  12.   6.   8.   5.   2.   6.\n",
      "   3.   3.  12.  25.  18.  33.  21.  37.  27.  29.  25.  36.  37.  18.\n",
      "   9.  33.  23.  22.   3.  17.   8.  11.  17.   2.   4.  24.  28.  20.\n",
      "  11.  25.  25.  24.   8.  20.  23.  17.  26.  16.  27.  20.  26.  29.\n",
      "  18.  22.  16.  13.  19. -14.   5.   7.  14.  12.  14.  16.  20.   3.\n",
      "   8.  18.  11.  26.  30.  13.  14.  23.  52.  32.  16.  24.  27.  28.\n",
      "  21.  10.  19.  24.  12.  16.  14.  34.  12.   6.  25.  24.   7.   4.\n",
      "   7.   2.   5.   5.   5.   5.   7.   4.   8.   5.   5.   6.   5.   6.\n",
      "   3.   6.   8.   5.   4.   2.   1.   5.   3.   8.   2.   7.   9.   6.\n",
      "   6.   5.   6.   5.   5.   2.   5.   8.  16.   7.   7.  13.  10.  12.\n",
      "  16.   9.   9.   7.   6.   2.  16.   1.   5.  17.   7.   5.   0.   8.\n",
      "   6.  10.  21.  11.   0.  20.   6.  15.  12.   8.   8.  23.  27.   6.\n",
      "   4.  22.   3.   9.   4.   0.   6.   6.  11.  10.  28.  15.  10.   3.\n",
      "   3.  14.   4.   8.   7.  10.   3.  13.  12.   8.   9.   7.  24.   7.\n",
      "   9.   6.   6.   9.   8.  20.  15.  10.   9.  11.  11.   9.  13.   6.\n",
      "  20.   7.   5.  15.  10.  11.  13.   7.  23.  16.  10.   8.  11.  23.\n",
      "  11.  15.   6.  13.   0.   8.   3.   4.   5.   7.   6.   6.   8.   3.\n",
      "   4.   4.   4.  10.   5.  10.  16.   4.  10.   4.  11.  12.  10.   6.\n",
      "   4.   1.   8.  12.  11.  16.   3.   3.   5.   3.   1.   6.  17.   8.\n",
      "  14.  10.   5.   4.  18.  12.   8.  12.  18.  11.  12.  17.   8.   4.\n",
      "   5.  16.   9.  12.   5.   8.   3.   7.  14.  11.   2.   3.   6.  12.\n",
      "  12.  10.  11.  20.  17.  16.  24.   7.  24.   5.   6.  11.  14.  16.\n",
      "  23.  23.   6.  15.  21.  12.  15.   6.   2.  14.  14.  13.  10.   6.\n",
      "   5.  20.  11.   9.   9.  15.  12.   9.  11.   2.  17.   7.   9.   9.\n",
      "  11.   7.   8.  17.   8.   6.  15.  16.   9.  13.  13.   5.  11.  14.\n",
      "   6.  11.  10.  17.   8.  21.  15.   2.  11.   8.   8.  12.  13.  15.\n",
      "   6.  11.  19.  16.  10.  18.  12.  14.  11.  14.  27.  12.  23.  10.\n",
      "  18.  15.   8.  17.  17.   8.   9.  24.  12.  14.   7.  12.  21.  23.\n",
      "  13.  16.  12.  11.  14.  18.   4.  10.   4.   6.  17.  17.  15.   8.\n",
      "  21.   2.  13.  19.   4.  12.  10.  12.   7.   9.   8.  18.  26.  30.\n",
      "  20.  21.   3.   3.  91.  44.  49.  24.  25.  23.  20.  15.  17. 120.\n",
      "  55.  19.  22.  16.  28.  18.  11.  23.   9.]\n"
     ]
    }
   ],
   "source": [
    "daily_losses = np.diff(apc_values)\n",
    "print(daily_losses)"
   ]
  },
  {
   "cell_type": "markdown",
   "id": "1cf2e4e4204accbc",
   "metadata": {},
   "source": [
    "## Завдання 4\n",
    "### 5 найбільших добових втрат БТР"
   ]
  },
  {
   "cell_type": "code",
   "execution_count": 11,
   "id": "8d4f05ba2d394e96",
   "metadata": {
    "ExecuteTime": {
     "end_time": "2023-11-09T10:51:54.175632100Z",
     "start_time": "2023-11-09T10:51:54.161019800Z"
    }
   },
   "outputs": [
    {
     "name": "stdout",
     "output_type": "stream",
     "text": [
      "[ 91.  96. 110. 120. 190.]\n"
     ]
    }
   ],
   "source": [
    "top_5_losses = np.sort(daily_losses)[-5:]\n",
    "print(top_5_losses)"
   ]
  },
  {
   "cell_type": "markdown",
   "id": "1b2293e896e86ad8",
   "metadata": {},
   "source": [
    "## Завдання 5\n",
    "### Кількість БТР було знищено влітку 2023 року"
   ]
  },
  {
   "cell_type": "code",
   "execution_count": 12,
   "id": "e867d9ad94911712",
   "metadata": {
    "ExecuteTime": {
     "end_time": "2023-11-09T10:51:55.548689800Z",
     "start_time": "2023-11-09T10:51:55.532559500Z"
    }
   },
   "outputs": [
    {
     "name": "stdout",
     "output_type": "stream",
     "text": [
      "587345.0\n"
     ]
    }
   ],
   "source": [
    "from datetime import datetime\n",
    "\n",
    "\n",
    "def get_dates(filename):\n",
    "    with open(filename, 'r') as f:\n",
    "        reader = csv.DictReader(f)\n",
    "        dates = [datetime.strptime(row['date'], '%Y-%m-%d') for row in reader] \n",
    "    return dates\n",
    "\n",
    "\n",
    "dates = get_dates('russia_losses_equipment.csv')\n",
    "start_date = datetime.strptime(\"2023-06-21\", '%Y-%m-%d')\n",
    "end_date = datetime.strptime(\"2023-08-31\", '%Y-%m-%d')\n",
    "summer_indices = [i for i, date in enumerate(dates) if start_date <= date <= end_date]\n",
    "summer_losses = apc_values[summer_indices].sum()\n",
    "print(summer_losses)"
   ]
  },
  {
   "cell_type": "markdown",
   "id": "af40f44466c161a0",
   "metadata": {},
   "source": [
    "## Завдання 6\n",
    "### Середнє значення знищених танків за останні 100 днів війни"
   ]
  },
  {
   "cell_type": "code",
   "execution_count": 13,
   "id": "176045cfd0a84d7a",
   "metadata": {
    "ExecuteTime": {
     "end_time": "2023-11-09T10:51:57.009948600Z",
     "start_time": "2023-11-09T10:51:57.008434800Z"
    }
   },
   "outputs": [
    {
     "name": "stdout",
     "output_type": "stream",
     "text": [
      "5817.675\n"
     ]
    }
   ],
   "source": [
    "average_losses = np.mean(apc_values[100:500])\n",
    "print(average_losses)"
   ]
  },
  {
   "cell_type": "markdown",
   "id": "a6032b8c392299a1",
   "metadata": {},
   "source": [
    "## Завдання 7\n",
    "### Графік втрат танків за минулий рік"
   ]
  },
  {
   "cell_type": "code",
   "execution_count": 14,
   "id": "7959da5ec02caa88",
   "metadata": {
    "ExecuteTime": {
     "end_time": "2023-11-09T10:52:00.218962100Z",
     "start_time": "2023-11-09T10:51:58.667806700Z"
    }
   },
   "outputs": [
    {
     "data": {
      "text/plain": "<Figure size 800x1600 with 1 Axes>",
      "image/png": "[encoded data removed]"
     },
     "metadata": {},
     "output_type": "display_data"
    }
   ],
   "source": [
    "import matplotlib.pyplot as plt\n",
    "\n",
    "plt.figure(figsize=(8, 16), dpi=100)\n",
    "plt.plot(dates[-200:], apc_values[-200:], linestyle='--')\n",
    "plt.title('Втрати БТР за останні 200 днів')\n",
    "plt.xlabel('Дата')\n",
    "plt.ylabel('Кількість втрат')\n",
    "plt.grid(color='gray', linestyle='-', linewidth=0.5)\n",
    "plt.legend(['Втрати БТР'])\n",
    "plt.savefig('btr_losses.png')"
   ]
  },
  {
   "cell_type": "code",
   "execution_count": null,
   "outputs": [],
   "source": [],
   "metadata": {
    "collapsed": false
   },
   "id": "66f2356512df2a95"
  }
 ],
 "metadata": {
  "kernelspec": {
   "display_name": "Python 3 (ipykernel)",
   "language": "python",
   "name": "python3"
  },
  "language_info": {
   "codemirror_mode": {
    "name": "ipython",
    "version": 3
   },
   "file_extension": ".py",
   "mimetype": "text/x-python",
   "name": "python",
   "nbconvert_exporter": "python",
   "pygments_lexer": "ipython3",
   "version": "3.11.5"
  }
 },
 "nbformat": 4,
 "nbformat_minor": 5
}
